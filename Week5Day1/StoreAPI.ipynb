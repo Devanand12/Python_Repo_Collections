{
 "cells": [
  {
   "cell_type": "code",
   "execution_count": null,
   "metadata": {},
   "outputs": [
    {
     "name": "stdout",
     "output_type": "stream",
     "text": [
      " * Serving Flask app \"__main__\" (lazy loading)\n",
      " * Environment: production\n",
      "   WARNING: Do not use the development server in a production environment.\n",
      "   Use a production WSGI server instead.\n",
      " * Debug mode: off\n"
     ]
    },
    {
     "name": "stderr",
     "output_type": "stream",
     "text": [
      " * Running on http://127.0.0.1:5000/ (Press CTRL+C to quit)\n",
      "127.0.0.1 - - [16/Mar/2019 07:27:40] \"GET / HTTP/1.1\" 200 -\n",
      "127.0.0.1 - - [16/Mar/2019 07:27:49] \"GET /store HTTP/1.1\" 200 -\n"
     ]
    }
   ],
   "source": [
    "# Online Store:\n",
    "from flask import Flask, jsonify, request\n",
    "\n",
    "app = Flask(__name__)\n",
    "\n",
    "stores = [{'name': 'My Wonderful Store',\n",
    "           'item': [{'name': 'My Item',\n",
    "                     'price': 1050}\n",
    "                   ]\n",
    "          }\n",
    "         ]\n",
    "\n",
    "@app.route('/')\n",
    "def hello_world():\n",
    "    return 'Hello World!'\n",
    "\n",
    "# POST - used to receive data\n",
    "# GET - used to send data back only\n",
    "\n",
    "# POST /store data: {name:}\n",
    "@app.route('/store', methods = ['POST'])\n",
    "def create_store():\n",
    "    request_data = request.get_json()\n",
    "    new_store = {\n",
    "        'name': request_data['name'],\n",
    "        'item': []  \n",
    "    }\n",
    "    Stores.append(new_store)\n",
    "    return jsonify(new_store)\n",
    "\n",
    "# GET /store/<string:name>\n",
    "@app.route('/store/<string:name>', methods = ['GET'])\n",
    "def get_item_in_store(name):     # 'http://192.168.1.1:5000/store/some name'\n",
    "    # Iterate over stores\n",
    "    for store in stores:\n",
    "        if store['name'] == name:\n",
    "            return jsonify(store)\n",
    "    return jsonify({'message': 'store not found'})\n",
    "            \n",
    "    # if the store name matches, return it\n",
    "    # If none match, return an error message\n",
    "\n",
    "# GET /store\n",
    "@app.route('/store')\n",
    "def get_stores():\n",
    "    return jsonify({'stores' : stores})\n",
    "\n",
    "# POST /store/<string:name>/item{name:, price}\n",
    "@app.route('/store/<string:name>/item', methods = ['POST'])\n",
    "def create_item_in_store(name):\n",
    "    pass\n",
    "\n",
    "# GET /store/<string:name>/item\n",
    "@app.route('/store/<string:name>/item')\n",
    "def get_item_in_store(name):     \n",
    "    pass\n",
    "\n",
    "if __name__ == '__main__':\n",
    "    app.run(debug=False)"
   ]
  },
  {
   "cell_type": "code",
   "execution_count": null,
   "metadata": {},
   "outputs": [],
   "source": []
  },
  {
   "cell_type": "code",
   "execution_count": null,
   "metadata": {},
   "outputs": [],
   "source": []
  }
 ],
 "metadata": {
  "kernelspec": {
   "display_name": "Python 3",
   "language": "python",
   "name": "python3"
  },
  "language_info": {
   "codemirror_mode": {
    "name": "ipython",
    "version": 3
   },
   "file_extension": ".py",
   "mimetype": "text/x-python",
   "name": "python",
   "nbconvert_exporter": "python",
   "pygments_lexer": "ipython3",
   "version": "3.7.1"
  }
 },
 "nbformat": 4,
 "nbformat_minor": 2
}
