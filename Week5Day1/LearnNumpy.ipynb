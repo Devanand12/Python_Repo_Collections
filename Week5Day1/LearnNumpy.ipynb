{
 "cells": [
  {
   "cell_type": "code",
   "execution_count": null,
   "metadata": {},
   "outputs": [],
   "source": [
    "#NumPy:- is stands for Numerical Python. It's the foundational package for mathematical computing. Mathemetical and logical\n",
    "#        opetation on arrays. Operation related to linear algebra. Numpy has in-built functions for linear algebra and\n",
    "#        random number generation. ndarray is core object in NumPy.\n",
    "\n",
    "#     Basic ndarray:- \n",
    "            # Multidimensinal Array\n",
    "            # Homogeneous collection of values.\n",
    "            # Fast and efficient\n",
    "            # Support for mathematical functions\n",
    "            # Primary container for data exchange between python algorithms.\n",
    "            \n",
    "#     Syntax:- class numpy.matrix(data, dtype=None, copy = True)\n",
    "#       # data -> array_like or String\n",
    "        #    If 'data' is string, it is interpreted as a matrix with commas or spaces spearating columns, and semicolons\n",
    "        #    separating rows.\n",
    "        \n",
    "        # dtype -> data-type\n",
    "        #    Data type of the output matrix.\n",
    "        \n",
    "        # bool\n",
    "        #    If data is already an ndarray, then this flag determines whether the data is copied(default),\n",
    "        #    or view is constructed.\n",
    "        \n",
    "#     Attribute:\n",
    "        # T  Returns the transpose of the matrix."
   ]
  },
  {
   "cell_type": "code",
   "execution_count": 21,
   "metadata": {},
   "outputs": [
    {
     "name": "stdout",
     "output_type": "stream",
     "text": [
      "[[1 2]\n",
      " [3 4]]\n"
     ]
    }
   ],
   "source": [
    "#Linear Algebra:- \n",
    "\n",
    "import numpy as np\n",
    "import time\n",
    "\n",
    "array = np.matrix('1,2; 3,4')           # matrix function return matrix from an array-like object, of from a string of data.\n",
    "print(array)                            # A matrix is a specialized 2-D array that retains its 2-D nature through operation."
   ]
  },
  {
   "cell_type": "code",
   "execution_count": 22,
   "metadata": {},
   "outputs": [
    {
     "name": "stdout",
     "output_type": "stream",
     "text": [
      "<class 'numpy.matrixlib.defmatrix.matrix'>\n"
     ]
    }
   ],
   "source": [
    "# for type of 'array' object \n",
    "print(type(array))"
   ]
  },
  {
   "cell_type": "code",
   "execution_count": 23,
   "metadata": {},
   "outputs": [
    {
     "name": "stdout",
     "output_type": "stream",
     "text": [
      "2\n"
     ]
    }
   ],
   "source": [
    "# for getting dimensions\n",
    "print(array.ndim)"
   ]
  },
  {
   "cell_type": "code",
   "execution_count": 24,
   "metadata": {},
   "outputs": [
    {
     "name": "stdout",
     "output_type": "stream",
     "text": [
      "(2, 2)\n"
     ]
    }
   ],
   "source": [
    "# for shape of array\n",
    "print(array.shape)"
   ]
  },
  {
   "cell_type": "code",
   "execution_count": 25,
   "metadata": {},
   "outputs": [
    {
     "name": "stdout",
     "output_type": "stream",
     "text": [
      "4\n"
     ]
    }
   ],
   "source": [
    "# for size\n",
    "print(array.size)"
   ]
  },
  {
   "cell_type": "code",
   "execution_count": 26,
   "metadata": {},
   "outputs": [
    {
     "name": "stdout",
     "output_type": "stream",
     "text": [
      "int32\n"
     ]
    }
   ],
   "source": [
    "# for type of elements in array\n",
    "print(array.dtype)"
   ]
  },
  {
   "cell_type": "code",
   "execution_count": 27,
   "metadata": {},
   "outputs": [
    {
     "name": "stdout",
     "output_type": "stream",
     "text": [
      "[[3 1 4]\n",
      " [1 5 9]\n",
      " [2 6 5]]\n"
     ]
    }
   ],
   "source": [
    "y = np.matrix([[3,1,4], [1,5,9], [2,6,5]])\n",
    "print(y)"
   ]
  },
  {
   "cell_type": "code",
   "execution_count": 28,
   "metadata": {},
   "outputs": [
    {
     "data": {
      "text/plain": [
       "matrix([[3, 1, 2],\n",
       "        [1, 5, 6],\n",
       "        [4, 9, 5]])"
      ]
     },
     "execution_count": 28,
     "metadata": {},
     "output_type": "execute_result"
    }
   ],
   "source": [
    "y.T                                 # Returns the transpose of the matix"
   ]
  },
  {
   "cell_type": "code",
   "execution_count": 29,
   "metadata": {},
   "outputs": [
    {
     "data": {
      "text/plain": [
       "matrix([[ 0.32222222, -0.21111111,  0.12222222],\n",
       "        [-0.14444444, -0.07777778,  0.25555556],\n",
       "        [ 0.04444444,  0.17777778, -0.15555556]])"
      ]
     },
     "execution_count": 29,
     "metadata": {},
     "output_type": "execute_result"
    }
   ],
   "source": [
    "y.I"
   ]
  },
  {
   "cell_type": "code",
   "execution_count": 30,
   "metadata": {},
   "outputs": [
    {
     "name": "stdout",
     "output_type": "stream",
     "text": [
      "[[ 0  0  1]\n",
      " [ 2 -1  3]\n",
      " [ 1  1  4]]\n"
     ]
    }
   ],
   "source": [
    "z = np.matrix([[0, 0, 1], [2, -1, 3], [1, 1, 4]])\n",
    "print(z)"
   ]
  },
  {
   "cell_type": "code",
   "execution_count": 31,
   "metadata": {},
   "outputs": [
    {
     "data": {
      "text/plain": [
       "matrix([[ 0,  2,  1],\n",
       "        [ 0, -1,  1],\n",
       "        [ 1,  3,  4]])"
      ]
     },
     "execution_count": 31,
     "metadata": {},
     "output_type": "execute_result"
    }
   ],
   "source": [
    "z.T"
   ]
  },
  {
   "cell_type": "code",
   "execution_count": 32,
   "metadata": {},
   "outputs": [
    {
     "data": {
      "text/plain": [
       "matrix([[-2.33333333,  0.33333333,  0.33333333],\n",
       "        [-1.66666667, -0.33333333,  0.66666667],\n",
       "        [ 1.        ,  0.        ,  0.        ]])"
      ]
     },
     "execution_count": 32,
     "metadata": {},
     "output_type": "execute_result"
    }
   ],
   "source": [
    "z.I"
   ]
  },
  {
   "cell_type": "code",
   "execution_count": 34,
   "metadata": {},
   "outputs": [
    {
     "name": "stdout",
     "output_type": "stream",
     "text": [
      "[1, 2, 3, 4, 10, 11, 12, 13]\n",
      "[11, 13, 15, 17]\n"
     ]
    }
   ],
   "source": [
    "import numpy as np\n",
    "import time\n",
    "\n",
    "a = [1,2,3,4]\n",
    "b = [10, 11, 12, 13]\n",
    "\n",
    "print(a+b)\n",
    "\n",
    "output = []\n",
    "for a, b in zip(a,b):\n",
    "    output.append(a + b)\n",
    "\n",
    "print(output)"
   ]
  },
  {
   "cell_type": "code",
   "execution_count": 35,
   "metadata": {},
   "outputs": [
    {
     "name": "stdout",
     "output_type": "stream",
     "text": [
      "9.33 µs ± 984 ns per loop (mean ± std. dev. of 7 runs, 100000 loops each)\n"
     ]
    }
   ],
   "source": [
    "g = list(range(1000))\n",
    "%timeit sum(g)"
   ]
  },
  {
   "cell_type": "code",
   "execution_count": 36,
   "metadata": {},
   "outputs": [
    {
     "name": "stdout",
     "output_type": "stream",
     "text": [
      "3.54 µs ± 47.6 ns per loop (mean ± std. dev. of 7 runs, 100000 loops each)\n"
     ]
    }
   ],
   "source": [
    "x = np.array(g)\n",
    "%timeit np.sum(x)"
   ]
  }
 ],
 "metadata": {
  "kernelspec": {
   "display_name": "Python 3",
   "language": "python",
   "name": "python3"
  },
  "language_info": {
   "codemirror_mode": {
    "name": "ipython",
    "version": 3
   },
   "file_extension": ".py",
   "mimetype": "text/x-python",
   "name": "python",
   "nbconvert_exporter": "python",
   "pygments_lexer": "ipython3",
   "version": "3.7.1"
  }
 },
 "nbformat": 4,
 "nbformat_minor": 2
}
