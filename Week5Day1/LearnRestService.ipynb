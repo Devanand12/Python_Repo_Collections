{
 "cells": [
  {
   "cell_type": "code",
   "execution_count": 4,
   "metadata": {},
   "outputs": [],
   "source": [
    "# REST:- stands for Representational State Transfer.\n",
    "# API:-  stands for Application Programming Interface.\n",
    "\n",
    "# flask:- is one of the python lib, its helps us to create \n",
    "#         flask lib. (Note: pip3.7 install flask)\n",
    " \n"
   ]
  },
  {
   "cell_type": "code",
   "execution_count": null,
   "metadata": {},
   "outputs": [],
   "source": [
    "# What is web Server?\n",
    "    # A piece of software designed to accept incoming web requests.\n",
    "    \n",
    "    # when we load the URL like 'http://www.google.com', (sending the request)\n",
    "        # internal understand the server like below \n",
    "            #        GET / HTTP / 1.1\n",
    "            #        HOST: www.google.com\n",
    "\n",
    "        # Its called as a GET Request\n",
    "        \n",
    "    # General in Rest Services - we use some terms called \n",
    "    # CRUD(Create, read, update and delete) operation.\n",
    "    \n",
    "            #   C  -  Create  -  Post\n",
    "            #   R  -  Read    -  Get\n",
    "            #   U  -  Update  -  Update\n",
    "            #   D  -  Delete  -  delete\n",
    "            \n",
    "            \n",
    "# What is a REST API?\n",
    "    # It's a way of thinking about how a web server responds to your requests. Its doesn't respond with just data\n",
    "    # It responds with resources\n",
    "            "
   ]
  }
 ],
 "metadata": {
  "kernelspec": {
   "display_name": "Python 3",
   "language": "python",
   "name": "python3"
  },
  "language_info": {
   "codemirror_mode": {
    "name": "ipython",
    "version": 3
   },
   "file_extension": ".py",
   "mimetype": "text/x-python",
   "name": "python",
   "nbconvert_exporter": "python",
   "pygments_lexer": "ipython3",
   "version": "3.7.1"
  }
 },
 "nbformat": 4,
 "nbformat_minor": 2
}
