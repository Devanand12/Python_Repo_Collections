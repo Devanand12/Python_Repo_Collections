{
 "cells": [
  {
   "cell_type": "code",
   "execution_count": null,
   "metadata": {},
   "outputs": [],
   "source": [
    "# Regular Expression:- \n",
    "    # Regular expression are a powerful String Manipulation tool\n",
    "    # It can also referred to as 'regex' or 'regexp'\n",
    "    # Using 'Regex' to:\n",
    "        # Search a string(search and match)\n",
    "        # Replacing parts of a string (sub)\n",
    "        # Break strings into smaller pieces (split)"
   ]
  },
  {
   "cell_type": "code",
   "execution_count": 1,
   "metadata": {},
   "outputs": [
    {
     "data": {
      "text/plain": [
       "re.compile(r'This is not a part of the Python core', re.UNICODE)"
      ]
     },
     "execution_count": 1,
     "metadata": {},
     "output_type": "execute_result"
    }
   ],
   "source": [
    "# The re module allowing you to compile regular expression into objects and the perform matches with them.\n",
    "\n",
    "import re\n",
    "\n",
    "pattern = re.compile(\"Python\")                # its return the patter object\n",
    "type(pattern)\n",
    "pattern\n"
   ]
  },
  {
   "cell_type": "code",
   "execution_count": 35,
   "metadata": {},
   "outputs": [
    {
     "data": {
      "text/plain": [
       "re.compile(r'This is not a part of the Python core', re.IGNORECASE|re.UNICODE)"
      ]
     },
     "execution_count": 35,
     "metadata": {},
     "output_type": "execute_result"
    }
   ],
   "source": [
    "pattern = re.compile(\"Python\", re.IGNORECASE) \n",
    "pattern"
   ]
  },
  {
   "cell_type": "code",
   "execution_count": 3,
   "metadata": {},
   "outputs": [
    {
     "ename": "AttributeError",
     "evalue": "'NoneType' object has no attribute 'span'",
     "output_type": "error",
     "traceback": [
      "\u001b[1;31m---------------------------------------------------------------------------\u001b[0m",
      "\u001b[1;31mAttributeError\u001b[0m                            Traceback (most recent call last)",
      "\u001b[1;32m<ipython-input-3-f835bbc5a367>\u001b[0m in \u001b[0;36m<module>\u001b[1;34m()\u001b[0m\n\u001b[0;32m      9\u001b[0m \u001b[0mpattern\u001b[0m \u001b[1;33m=\u001b[0m \u001b[0mre\u001b[0m\u001b[1;33m.\u001b[0m\u001b[0mcompile\u001b[0m\u001b[1;33m(\u001b[0m\u001b[1;34m\"testl\"\u001b[0m\u001b[1;33m)\u001b[0m\u001b[1;33m\u001b[0m\u001b[0m\n\u001b[0;32m     10\u001b[0m \u001b[0mmatch\u001b[0m \u001b[1;33m=\u001b[0m \u001b[0mpattern\u001b[0m\u001b[1;33m.\u001b[0m\u001b[0mmatch\u001b[0m\u001b[1;33m(\u001b[0m\u001b[1;34m\"wtestleaf to techEd\"\u001b[0m\u001b[1;33m)\u001b[0m\u001b[1;33m\u001b[0m\u001b[0m\n\u001b[1;32m---> 11\u001b[1;33m \u001b[0mmatch\u001b[0m\u001b[1;33m.\u001b[0m\u001b[0mspan\u001b[0m\u001b[1;33m(\u001b[0m\u001b[1;33m)\u001b[0m\u001b[1;33m\u001b[0m\u001b[0m\n\u001b[0m",
      "\u001b[1;31mAttributeError\u001b[0m: 'NoneType' object has no attribute 'span'"
     ]
    }
   ],
   "source": [
    "# Matches:- We have created to Pattern object representing a compiled regular expression using re.compile() method.\n",
    "        #   Pattern object have several methods.\n",
    "                # match()         -> Determine if the RE matches at the begining of the string.\n",
    "                # search()        -> Scan through a string, looking for any location where this RE matches. \n",
    "                # findall()       ->  Find all subString where the RE matches, and return them as a list\n",
    "                \n",
    "\n",
    "# match()         -> match is checked only at the begining (by default).\n",
    "pattern = re.compile(\"testl\")\n",
    "match = pattern.match(\"testleaf to techEd\")\n",
    "match.span()"
   ]
  },
  {
   "cell_type": "code",
   "execution_count": 28,
   "metadata": {},
   "outputs": [
    {
     "data": {
      "text/plain": [
       "(11, 19)"
      ]
     },
     "execution_count": 28,
     "metadata": {},
     "output_type": "execute_result"
    }
   ],
   "source": [
    "# Search:- Match is searched for throughout the String. If a match is found, a Match object is returns.\n",
    "\n",
    "pattern = re.compile(\"testleaf\")\n",
    "match = pattern.search(\"Welcome to testleaf and Its a techEd Comp\")\n",
    "match.span()"
   ]
  },
  {
   "cell_type": "code",
   "execution_count": 4,
   "metadata": {},
   "outputs": [
    {
     "name": "stdout",
     "output_type": "stream",
     "text": [
      "['Testleaf', 'Testleaf']\n",
      "Testleaf\n",
      "Testleaf\n"
     ]
    }
   ],
   "source": [
    "# find all:- Finds all non-Overlapping subString where the match is found, and returns them as an iterator of the Match object.\n",
    "pattern = re.compile(\"Testleaf\")\n",
    "x = pattern.findall(\"Welcome to Testleaf. Testleaf a techEd Comp\")\n",
    "type(x)\n",
    "print(x)\n",
    "for i in x:\n",
    "    print(i)\n"
   ]
  },
  {
   "cell_type": "code",
   "execution_count": 38,
   "metadata": {},
   "outputs": [
    {
     "data": {
      "text/plain": [
       "['licence', 'license', 'licence']"
      ]
     },
     "execution_count": 38,
     "metadata": {},
     "output_type": "execute_result"
    }
   ],
   "source": [
    "# Ex 1:- Consider an example below where we have messed up between license and licence spellings and want to find all\n",
    "\n",
    "     #   occurances of license / licence in the text.\n",
    "    \n",
    "import re\n",
    "    \n",
    "txt = \"\"\"Yesterday, I was driving my car without a driving licence.\n",
    "The traffic police stopped me and asked license.\n",
    "I told them that i forgot my licence at home\"\"\"\n",
    "\n",
    "pattern = re.compile(\"licen[cs]e\")\n",
    "pattern.findall(txt)\n"
   ]
  },
  {
   "cell_type": "code",
   "execution_count": 45,
   "metadata": {},
   "outputs": [
    {
     "name": "stdout",
     "output_type": "stream",
     "text": [
      "Ystrdy, I ws drvng my cr wtht  drvng lcnc.\n",
      "Th trffc plc stppd m nd skd lcns.\n",
      "I tld thm tht  frgt my lcnc t hm\n"
     ]
    }
   ],
   "source": [
    "import re\n",
    "    \n",
    "txt = \"\"\"Yesterday, I was driving my car without a driving licence.\n",
    "The traffic police stopped me and asked license.\n",
    "I told them that i forgot my licence at home\"\"\"\n",
    "\n",
    "pattern = re.compile(\"[^aeiou]\")\n",
    "print(\"\".join(pattern.findall(txt)))\n"
   ]
  },
  {
   "cell_type": "code",
   "execution_count": null,
   "metadata": {},
   "outputs": [],
   "source": []
  }
 ],
 "metadata": {
  "kernelspec": {
   "display_name": "Python 3",
   "language": "python",
   "name": "python3"
  },
  "language_info": {
   "codemirror_mode": {
    "name": "ipython",
    "version": 3
   },
   "file_extension": ".py",
   "mimetype": "text/x-python",
   "name": "python",
   "nbconvert_exporter": "python",
   "pygments_lexer": "ipython3",
   "version": "3.6.5"
  }
 },
 "nbformat": 4,
 "nbformat_minor": 2
}
