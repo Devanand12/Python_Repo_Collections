{
 "cells": [
  {
   "cell_type": "code",
   "execution_count": null,
   "metadata": {},
   "outputs": [],
   "source": [
    "# RDBMS: Data Base Management System\n",
    "    #  is collection of data and set of program to access & store those data in different easy manner.\n",
    "    #  is a software which is used to manage database.\n",
    "            # ex:- MySQL, Oracle, PostgreSQL, Microsoft SQL Server, SQLite\n",
    "    "
   ]
  },
  {
   "cell_type": "code",
   "execution_count": 1,
   "metadata": {},
   "outputs": [
    {
     "name": "stdout",
     "output_type": "stream",
     "text": [
      "Opened database successfully\n"
     ]
    }
   ],
   "source": [
    "import sqlite3\n",
    "\n",
    "con = sqlite3.connect('emp.db')\n",
    "print (\"Opened database successfully\")"
   ]
  },
  {
   "cell_type": "code",
   "execution_count": 2,
   "metadata": {},
   "outputs": [
    {
     "name": "stdout",
     "output_type": "stream",
     "text": [
      "Table created successfully\n"
     ]
    }
   ],
   "source": [
    "con.execute(\"\"\"CREATE TABLE employees (\n",
    "                firstName,\n",
    "                lastName,\n",
    "                pay\n",
    "                )\"\"\")\n",
    "\n",
    "print (\"Table created successfully\")"
   ]
  },
  {
   "cell_type": "code",
   "execution_count": 3,
   "metadata": {},
   "outputs": [
    {
     "name": "stdout",
     "output_type": "stream",
     "text": [
      "Insterted values successfully\n"
     ]
    }
   ],
   "source": [
    "con.execute(\"INSERT INTO employees VALUES ('Gopinath', 'Jayakumar', '70000')\")\n",
    "\n",
    "con.execute(\"INSERT INTO employees VALUES ('Maria', 'Jenifer', '40000')\")\n",
    "\n",
    "con.execute(\"INSERT INTO employees VALUES ('Deepa', 'Sangith', '40000')\")\n",
    "\n",
    "con.commit()\n",
    "print (\"Insterted values successfully\")"
   ]
  },
  {
   "cell_type": "code",
   "execution_count": 4,
   "metadata": {},
   "outputs": [
    {
     "name": "stdout",
     "output_type": "stream",
     "text": [
      "close the connection \n"
     ]
    }
   ],
   "source": [
    "con.close()\n",
    "print(\"close the connection \")"
   ]
  },
  {
   "cell_type": "code",
   "execution_count": 7,
   "metadata": {},
   "outputs": [
    {
     "name": "stdout",
     "output_type": "stream",
     "text": [
      "first name:  Gopinath\n",
      "last name:  Jayakumar\n",
      "pay:  70000 \n",
      "\n",
      "first name:  Maria\n",
      "last name:  Jenifer\n",
      "pay:  40000 \n",
      "\n",
      "first name:  Deepa\n",
      "last name:  Sangith\n",
      "pay:  40000 \n",
      "\n"
     ]
    }
   ],
   "source": [
    "import pixiedust\n",
    "con = sqlite3.connect('emp.db')\n",
    "\n",
    "def fetchValueFromDB(con):\n",
    "    cursor = con.execute(\"SELECT * FROM employees\")\n",
    "    for row in cursor:\n",
    "        print(\"first name: \", row[0])\n",
    "        print(\"last name: \", row[1])\n",
    "        print(\"pay: \", row[2], \"\\n\")\n",
    "        \n",
    "fetchValueFromDB(con)"
   ]
  },
  {
   "cell_type": "code",
   "execution_count": null,
   "metadata": {},
   "outputs": [],
   "source": []
  }
 ],
 "metadata": {
  "kernelspec": {
   "display_name": "Python 3",
   "language": "python",
   "name": "python3"
  },
  "language_info": {
   "codemirror_mode": {
    "name": "ipython",
    "version": 3
   },
   "file_extension": ".py",
   "mimetype": "text/x-python",
   "name": "python",
   "nbconvert_exporter": "python",
   "pygments_lexer": "ipython3",
   "version": "3.6.5"
  }
 },
 "nbformat": 4,
 "nbformat_minor": 2
}
