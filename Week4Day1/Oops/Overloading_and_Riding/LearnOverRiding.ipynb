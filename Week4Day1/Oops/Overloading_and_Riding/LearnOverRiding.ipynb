{
 "cells": [
  {
   "cell_type": "code",
   "execution_count": null,
   "metadata": {},
   "outputs": [],
   "source": [
    "# Overriding: is when you call a method on an object and the method in subclass with the same signature as the one in the \n",
    "#             Super class is called Method OverRiding. Its one of the Object Oriented programming feature that allows a \n",
    "#             subclass to superClass.\n",
    "\n"
   ]
  },
  {
   "cell_type": "code",
   "execution_count": 17,
   "metadata": {},
   "outputs": [
    {
     "name": "stdout",
     "output_type": "stream",
     "text": [
      "64  is area of square\n"
     ]
    }
   ],
   "source": [
    "class Rectangle():\n",
    "    def __init__(self,length,breadth):\n",
    "        self.length = length\n",
    "        self.breadth = breadth\n",
    "   \n",
    "    def getArea(self):\n",
    "        print (self.length*self.breadth,\" is area of rectangle\")\n",
    "        \n",
    "\n",
    "class Square(Rectangle):\n",
    "    def __init__(self,side):\n",
    "        self.side = side\n",
    "        Rectangle.__init__(self,side,side)\n",
    "    \n",
    "    def getArea(self):           \n",
    "        print (self.side*self.side,\" is area of square\")\n",
    "        \n",
    "x = Square(8)\n",
    "x.getArea()"
   ]
  },
  {
   "cell_type": "code",
   "execution_count": 34,
   "metadata": {},
   "outputs": [
    {
     "data": {
      "text/plain": [
       "3"
      ]
     },
     "execution_count": 34,
     "metadata": {},
     "output_type": "execute_result"
    }
   ],
   "source": [
    "# Method OverLoading\n",
    "def add(instanceOf,*args):\n",
    "    if instanceOf=='int':\n",
    "        result=0\n",
    "    if instanceOf=='str':\n",
    "        result=''\n",
    "    for i in args:\n",
    "        result+=i  #result = result+i\n",
    "    return result\n",
    "\n",
    "\n",
    "add('int', 1, 2, 3)\n",
    "add('str', 'hello ', 'everyone')\n",
    "\n",
    "\n",
    "\n",
    "# another example\n",
    "def addtion(a = 0, b = 0, c = 0):\n",
    "    return int(a+b+c);\n",
    "\n",
    "addtion(1,2)\n",
    "addtion(5,8,6)\n",
    "\n",
    "\n"
   ]
  },
  {
   "cell_type": "code",
   "execution_count": 22,
   "metadata": {},
   "outputs": [
    {
     "name": "stdout",
     "output_type": "stream",
     "text": [
      "25\n",
      "25\n"
     ]
    }
   ],
   "source": [
    "# Operator Overloading\n",
    "a= 5 \n",
    "b = 5\n",
    "\n",
    "print(a*b)\n",
    "print(a.__mul__(b))"
   ]
  }
 ],
 "metadata": {
  "kernelspec": {
   "display_name": "Python 3",
   "language": "python",
   "name": "python3"
  },
  "language_info": {
   "codemirror_mode": {
    "name": "ipython",
    "version": 3
   },
   "file_extension": ".py",
   "mimetype": "text/x-python",
   "name": "python",
   "nbconvert_exporter": "python",
   "pygments_lexer": "ipython3",
   "version": "3.6.5"
  }
 },
 "nbformat": 4,
 "nbformat_minor": 2
}
