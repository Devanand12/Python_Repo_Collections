{
 "cells": [
  {
   "cell_type": "code",
   "execution_count": 4,
   "metadata": {},
   "outputs": [
    {
     "name": "stdout",
     "output_type": "stream",
     "text": [
      "Hello Gopinath, Welcome to the Jungle\n",
      "Thanks Gopinath for your rating 4\n",
      "['Owl', 'Parrot'] \n",
      " Ape\n"
     ]
    }
   ],
   "source": [
    "class Jungle:    \n",
    "    def __init__(self, name):\n",
    "        self.name = name\n",
    "        print(self.name)\n",
    "        \n",
    "    def welcomeMessage(self):\n",
    "        print(\"Hello %s, Welcome to the Jungle\" %self.name)   \n",
    "        \n",
    "# if __name__ == '__main__':\n",
    "#     j = Jungle(\"Gopinath\")\n",
    "#     j.welcomeMessage()\n",
    "\n",
    "\n",
    "\n",
    "\n",
    "class RateJungle(Jungle):\n",
    "  \n",
    "    def __init__(self, name, rating):\n",
    "        self.rating = rating        \n",
    "        print(rating)\n",
    "        super().__init__(name)\n",
    "        \n",
    "    def printRating(self):\n",
    "        print(\"Thanks %s for your rating %d\" %(self.name, self.rating))\n",
    "        \n",
    "# r = RateJungle(\"Gopi\", 3)\n",
    "# r.printRating()\n",
    "\n",
    "\n",
    "\n",
    "\n",
    "\n",
    "class listOfAnimals(RateJungle):\n",
    "    \n",
    "    def __init__(self, monkeys, name, rating):\n",
    "        self.birds = []\n",
    "        self.monkeys = monkeys\n",
    "        RateJungle.name = name\n",
    "        RateJungle.rating = rating\n",
    "        \n",
    "    def allAnimalList(self):\n",
    "        print(self.birds, '\\n', self.monkeys)\n",
    "        \n",
    "l =listOfAnimals('Ape', 'Gopinath', 4)\n",
    "l.birds = ['Owl', 'Parrot']\n",
    "l.welcomeMessage()\n",
    "l.printRating()\n",
    "l.allAnimalList()"
   ]
  },
  {
   "cell_type": "code",
   "execution_count": null,
   "metadata": {},
   "outputs": [],
   "source": []
  }
 ],
 "metadata": {
  "kernelspec": {
   "display_name": "Python 3",
   "language": "python",
   "name": "python3"
  },
  "language_info": {
   "codemirror_mode": {
    "name": "ipython",
    "version": 3
   },
   "file_extension": ".py",
   "mimetype": "text/x-python",
   "name": "python",
   "nbconvert_exporter": "python",
   "pygments_lexer": "ipython3",
   "version": "3.6.5"
  }
 },
 "nbformat": 4,
 "nbformat_minor": 2
}
