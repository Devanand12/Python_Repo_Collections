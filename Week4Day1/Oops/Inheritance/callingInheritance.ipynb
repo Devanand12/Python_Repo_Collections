{
 "cells": [
  {
   "cell_type": "code",
   "execution_count": 49,
   "metadata": {},
   "outputs": [
    {
     "name": "stdout",
     "output_type": "stream",
     "text": [
      "Hello Gopinath, Welcome to the Jungle\n",
      "Thanks Gopinath for your rating 4\n",
      "['Owl', 'Parrot'] \n",
      " Ape\n"
     ]
    }
   ],
   "source": [
    "from Learn_MultiLevel_Inheritance import RateJungle\n",
    "\n",
    "class listOfAnimals1(RateJungle):\n",
    "    \n",
    "    def __init__(self, monkeys, name, rating):\n",
    "        self.birds = []\n",
    "        self.monkeys = monkeys\n",
    "        RateJungle.name = name\n",
    "        RateJungle.rating = rating\n",
    "        \n",
    "    def allAnimalList(self):\n",
    "        print(self.birds, '\\n', self.monkeys)\n",
    "        \n",
    "def main():\n",
    "    l =listOfAnimals1('Ape', 'Gopinath', 4)\n",
    "    l.birds = ['Owl', 'Parrot']\n",
    "    l.welcomeMessage()\n",
    "    l.printRating()\n",
    "    l.allAnimalList() \n",
    "    \n",
    "main()"
   ]
  },
  {
   "cell_type": "code",
   "execution_count": null,
   "metadata": {},
   "outputs": [],
   "source": []
  }
 ],
 "metadata": {
  "kernelspec": {
   "display_name": "Python 3",
   "language": "python",
   "name": "python3"
  },
  "language_info": {
   "codemirror_mode": {
    "name": "ipython",
    "version": 3
   },
   "file_extension": ".py",
   "mimetype": "text/x-python",
   "name": "python",
   "nbconvert_exporter": "python",
   "pygments_lexer": "ipython3",
   "version": "3.6.5"
  }
 },
 "nbformat": 4,
 "nbformat_minor": 2
}
