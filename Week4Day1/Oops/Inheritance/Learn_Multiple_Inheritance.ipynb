{
 "cells": [
  {
   "cell_type": "code",
   "execution_count": 2,
   "metadata": {},
   "outputs": [
    {
     "name": "stdout",
     "output_type": "stream",
     "text": [
      "Hello Class C\n"
     ]
    }
   ],
   "source": [
    "class A:\n",
    "    \n",
    "    def __init__(self):\n",
    "        print('Hello Class A')\n",
    "    \n",
    "    def a():\n",
    "        print(\"Class A\")\n",
    "        \n",
    "class B:    \n",
    "    \n",
    "    def __init__(self):\n",
    "        print('Hello Class B')\n",
    "    \n",
    "    def b():\n",
    "        print(\"Class B\")\n",
    "        \n",
    "class C(A, B):    \n",
    "    \n",
    "    def __init__(self):\n",
    "        print('Hello Class C')\n",
    "    \n",
    "    def c():\n",
    "        print(\"Class C\")\n",
    "        \n",
    "x = C()\n"
   ]
  },
  {
   "cell_type": "code",
   "execution_count": null,
   "metadata": {},
   "outputs": [],
   "source": []
  }
 ],
 "metadata": {
  "kernelspec": {
   "display_name": "Python 3",
   "language": "python",
   "name": "python3"
  },
  "language_info": {
   "codemirror_mode": {
    "name": "ipython",
    "version": 3
   },
   "file_extension": ".py",
   "mimetype": "text/x-python",
   "name": "python",
   "nbconvert_exporter": "python",
   "pygments_lexer": "ipython3",
   "version": "3.6.5"
  }
 },
 "nbformat": 4,
 "nbformat_minor": 2
}
