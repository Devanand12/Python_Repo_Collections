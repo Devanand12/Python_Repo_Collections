{
 "cells": [
  {
   "cell_type": "code",
   "execution_count": 2,
   "metadata": {},
   "outputs": [
    {
     "name": "stdout",
     "output_type": "stream",
     "text": [
      "2016-05-14\n",
      "--------\n",
      "07:00:00\n",
      "2016-05-14\n"
     ]
    }
   ],
   "source": [
    "# Inheritance:- \n",
    "    # Any class inheriting from another class (also called a Parent class or Super Class)\n",
    "    # inherits the methods and attributes from the Parent class.\n",
    "\n",
    "# The code below shows how a class can inherit from another class.\n",
    "# We have two classes, `Date` and `Time`. Here `Time` inherits from `Date`.\n",
    "\n",
    "class Date():\n",
    "    def get_date(self):\n",
    "        print(\"2019-03-09\")\n",
    "\n",
    "class Time(Date):                      #  (Single level Inheritance)\n",
    "    def get_time(self):\n",
    "        print(\"08:45:00\")\n",
    "        \n",
    "# Hence, any instances created from the class `Time` can access\n",
    "# the methods defined in the parent class `Date`.\n",
    "\n",
    "# Creating an instance from `Date`\n",
    "dt = Date()\n",
    "dt.get_date()  # Accesing the `get_date()` method of `Date`\n",
    "print(\"--------\")\n",
    "\n",
    "# Creating an instance from `Time`.\n",
    "tm = Time()\n",
    "tm.get_time()   # Accessing the `get_time()` method from `Time`.\n",
    "\n",
    "# Accessing the `get_date() which is defined in the parent class `Date`.\n",
    "tm.get_date()"
   ]
  },
  {
   "cell_type": "code",
   "execution_count": null,
   "metadata": {},
   "outputs": [],
   "source": []
  }
 ],
 "metadata": {
  "kernelspec": {
   "display_name": "Python 3",
   "language": "python",
   "name": "python3"
  },
  "language_info": {
   "codemirror_mode": {
    "name": "ipython",
    "version": 3
   },
   "file_extension": ".py",
   "mimetype": "text/x-python",
   "name": "python",
   "nbconvert_exporter": "python",
   "pygments_lexer": "ipython3",
   "version": "3.6.5"
  }
 },
 "nbformat": 4,
 "nbformat_minor": 2
}
