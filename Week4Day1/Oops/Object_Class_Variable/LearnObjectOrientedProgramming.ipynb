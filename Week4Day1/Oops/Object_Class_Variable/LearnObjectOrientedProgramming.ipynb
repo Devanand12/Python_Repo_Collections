{
 "cells": [
  {
   "cell_type": "code",
   "execution_count": 13,
   "metadata": {},
   "outputs": [],
   "source": [
    "# Oop - Object Oriented Programming:\n",
    "\n",
    "    # Class and Object - Class : A 'class'’' is user defined template which contains variables, constants and functions etc.\n",
    "    #                  - Object: Object is an instance of the class.In simple words, a class contains the structure of the code, \n",
    "    #                            whereas the object of the class uses that structure for performing various tasks\n"
   ]
  },
  {
   "cell_type": "code",
   "execution_count": 1,
   "metadata": {},
   "outputs": [
    {
     "name": "stdout",
     "output_type": "stream",
     "text": [
      "<__main__.Jungle object at 0x000001E5C2F25B00>\n"
     ]
    }
   ],
   "source": [
    "# Class: Class is created using keyword 'class'. class name should start with uppercase.\n",
    "\n",
    "# Declaration of Class\n",
    "class Jungle:\n",
    "    pass  # Currently, this class does not have any structure, therefore keyword ‘pass’ is used.\n",
    "\n",
    "# Create Object for Class\n",
    "j = Jungle()\n",
    "print(j)"
   ]
  },
  {
   "cell_type": "code",
   "execution_count": 4,
   "metadata": {},
   "outputs": [
    {
     "name": "stdout",
     "output_type": "stream",
     "text": [
      "Welcome to Jungle\n",
      "Welcome to Jungle\n"
     ]
    }
   ],
   "source": [
    "# calling class's using object (Different way)\n",
    "class Jungle:   \n",
    "   \n",
    "    def welcomeMessage(self):         # The functions inside the class are known as 'methods'.\n",
    "        print('Welcome to Jungle')         \n",
    "# \n",
    "# way 1\n",
    "j = Jungle()\n",
    "j.welcomeMessage()\n",
    "\n",
    "# way 2\n",
    "Jungle.welcomeMessage(j)"
   ]
  },
  {
   "cell_type": "code",
   "execution_count": 6,
   "metadata": {},
   "outputs": [
    {
     "name": "stdout",
     "output_type": "stream",
     "text": [
      "Hi Gopinath Jayakumar\n",
      "test\n",
      "Welcome to Jungle\n"
     ]
    }
   ],
   "source": [
    "# Constructor:- The '__init__' method is used to define and initialize the class variables. This '__init__' method is known as\n",
    "#               Constructor and the variables are known as attributes.\n",
    "\n",
    "class Jungle:\n",
    "    \n",
    "    def __init__(self, q):               # Special method (Constructor)\n",
    "        print('Hi Gopinath Jayakumar')\n",
    "        self.name = q\n",
    "        print(self.name)\n",
    "       \n",
    "   \n",
    "    def welcomeMessage(self):         # The functions inside the class are known as 'methods'.\n",
    "        print('Welcome to Jungle')         \n",
    "# \n",
    "# way 1\n",
    "j = Jungle(\"test\")\n",
    "j.welcomeMessage()"
   ]
  },
  {
   "cell_type": "code",
   "execution_count": 8,
   "metadata": {},
   "outputs": [
    {
     "name": "stdout",
     "output_type": "stream",
     "text": [
      "Hello karthik, Welcome to the Jungle\n"
     ]
    }
   ],
   "source": [
    "# Construcor with default value:\n",
    "\n",
    "class Jungle:\n",
    "    \n",
    "    def __init__(self, name = 'Unknown'):\n",
    "        self.visitorName = name\n",
    "        \n",
    "    def welcomeMessage(self):\n",
    "        print(\"Hello %s, Welcome to the Jungle\" %self.visitorName)   \n",
    "        \n",
    "j = Jungle(\"karthik\");\n",
    "j.welcomeMessage()\n"
   ]
  },
  {
   "cell_type": "code",
   "execution_count": 7,
   "metadata": {},
   "outputs": [
    {
     "name": "stdout",
     "output_type": "stream",
     "text": [
      "Hello Gopinath Jayakumar, Welcome to the Jungle\n",
      "Hello Unknown, Welcome to the Jungle\n"
     ]
    }
   ],
   "source": [
    "# Define 'main' function.\n",
    "class Jungle:\n",
    "    \n",
    "    def __init__(self, name = 'Unknown'):\n",
    "        self.visitorName = name\n",
    "        \n",
    "    def welcomeMessage(self):\n",
    "        print(\"Hello %s, Welcome to the Jungle\" %self.visitorName)\n",
    "        \n",
    "\n",
    "    j = Jungle('Gopinath Jayakumar')\n",
    "    j.welcomeMessage()\n",
    "\n",
    "    k = Jungle()\n",
    "    k.welcomeMessage()"
   ]
  },
  {
   "cell_type": "code",
   "execution_count": 8,
   "metadata": {},
   "outputs": [],
   "source": [
    "# Define 'main' function.\n",
    "class Jungle:\n",
    "    \n",
    "    def __init__(self, name = 'Unknown'):\n",
    "        self.visitorName = name\n",
    "        \n",
    "    def welcomeMessage(self):\n",
    "        print(\"Hello %s, Welcome to the Jungle\" %self.visitorName)"
   ]
  },
  {
   "cell_type": "code",
   "execution_count": 10,
   "metadata": {},
   "outputs": [
    {
     "name": "stdout",
     "output_type": "stream",
     "text": [
      "Hello Gopinath Jayakumar, Welcome to the Jungle\n",
      "Hello Unknown, Welcome to the Jungle\n"
     ]
    }
   ],
   "source": [
    "def main():\n",
    "    j = Jungle('Gopinath Jayakumar')\n",
    "    j.welcomeMessage()\n",
    "\n",
    "    k = Jungle()\n",
    "    k.welcomeMessage()\n",
    "    \n",
    "main()\n",
    "    \n",
    "# if __name__ == '__main__':\n",
    "#     main()"
   ]
  },
  {
   "cell_type": "code",
   "execution_count": 10,
   "metadata": {},
   "outputs": [
    {
     "name": "stdout",
     "output_type": "stream",
     "text": [
      "Details of India's Jungle: Van Vihar National Park\n",
      "An area of 4.4521 km2 was declared to be a national park in 1983\n",
      "\n",
      "Details of Hindustan's Jungle: Hemis national park\n",
      "An area of 4,400 km2 was declared to be a national park in 1990\n",
      "\n",
      "Details of Hindustan's Jungle: Van Vihar National Park\n",
      "An area of 4.4521 km2 was declared to be a national park in 1983\n",
      "\n"
     ]
    }
   ],
   "source": [
    "# Variables: - Instance Variables and Class Variables\n",
    "\n",
    "class Jungle:\n",
    "    \n",
    "    country = \"India\"                   # Class Variable or Static Variable\n",
    "    \n",
    "    def __init__(self, name = \"Unknow\", details = 'Unknow'):\n",
    "        self.nameOfJungle = name        # instance variable\n",
    "        self.desc = details             # instance variable     - we can change it, Once we change the value \n",
    "                                        #                         this will not affact another instance varialbe value.\n",
    "            \n",
    "a  = Jungle()\n",
    "a.name = 'Van Vihar National Park'\n",
    "a.details = 'An area of 4.4521 km2 was declared to be a national park in 1983'\n",
    "print(\"Details of \"+a.country+\"\\'s Jungle: \"+a.name)\n",
    "print(a.details)\n",
    "print()\n",
    "\n",
    "Jungle.country = \"Hindustan\"                             \n",
    "\n",
    "b =Jungle()\n",
    "b.name = 'Hemis national park'\n",
    "b.details = 'An area of 4,400 km2 was declared to be a national park in 1990'\n",
    "print(\"Details of \"+b.country+\"\\'s Jungle: \"+b.name)\n",
    "print(b.details)\n",
    "print()\n",
    "\n",
    "print(\"Details of \"+a.country+\"\\'s Jungle: \"+a.name)\n",
    "print(a.details)\n",
    "print()"
   ]
  },
  {
   "cell_type": "code",
   "execution_count": 26,
   "metadata": {},
   "outputs": [
    {
     "name": "stdout",
     "output_type": "stream",
     "text": [
      "using '+' operator: 25\n",
      "using __add__ methods: 25\n"
     ]
    }
   ],
   "source": [
    "a = 10\n",
    "b = 15\n",
    "a.conjugate()\n",
    "print(\"using '+' operator: \" + str(a+b))\n",
    "print(\"using __add__ methods: \" + str(a.__add__(b)))"
   ]
  },
  {
   "cell_type": "code",
   "execution_count": null,
   "metadata": {},
   "outputs": [],
   "source": []
  }
 ],
 "metadata": {
  "kernelspec": {
   "display_name": "Python 3",
   "language": "python",
   "name": "python3"
  },
  "language_info": {
   "codemirror_mode": {
    "name": "ipython",
    "version": 3
   },
   "file_extension": ".py",
   "mimetype": "text/x-python",
   "name": "python",
   "nbconvert_exporter": "python",
   "pygments_lexer": "ipython3",
   "version": "3.6.5"
  }
 },
 "nbformat": 4,
 "nbformat_minor": 2
}
